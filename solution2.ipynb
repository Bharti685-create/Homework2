{
 "metadata": {
  "language_info": {
   "codemirror_mode": {
    "name": "ipython",
    "version": 3
   },
   "file_extension": ".py",
   "mimetype": "text/x-python",
   "name": "python",
   "nbconvert_exporter": "python",
   "pygments_lexer": "ipython3",
   "version": "3.8.5-final"
  },
  "orig_nbformat": 2,
  "kernelspec": {
   "name": "python38532bit22575fde146340d1af1562ba76661844",
   "display_name": "Python 3.8.5 32-bit"
  }
 },
 "nbformat": 4,
 "nbformat_minor": 2,
 "cells": [
  {
   "source": [
    "# Solutions"
   ],
   "cell_type": "markdown",
   "metadata": {}
  },
  {
   "source": [
    "## Solution 1"
   ],
   "cell_type": "markdown",
   "metadata": {}
  },
  {
   "cell_type": "code",
   "execution_count": 3,
   "metadata": {
    "tags": []
   },
   "outputs": [
    {
     "output_type": "stream",
     "name": "stdout",
     "text": "\n              Number              Square                Cube\n                   0                   0                   0\n                   1                   1                   1\n                   2                   4                   8\n                   3                   9                  27\n                   4                  16                  64\n                   5                  25                 125\n"
    }
   ],
   "source": [
    "# Computing the Square and Cubes of numbers 0 to 5\n",
    "\n",
    "a = 0\n",
    "b = 1\n",
    "c = 2\n",
    "d = 3\n",
    "e = 4\n",
    "f = 5\n",
    "\n",
    "Heading_1 = 'Number'\n",
    "Heading_2 = 'Square'\n",
    "Heading_3 = 'Cube'\n",
    "\n",
    "#print(len(f'{Heading_1:<20}'))\n",
    "#print ('')\n",
    "\n",
    "print(f'\\n{Heading_1:>20}{Heading_2:>20}{Heading_3:>20}\\n{a:>20}{a ** 2:>20}{a ** 3:>20}\\n{b:>20}{b ** 2:>20}{b ** 3:>20}\\n{c:>20}{c ** 2:>20}{c ** 3:>20}\\n{d:>20}{d ** 2:>20}{d ** 3:>20}\\n{e:>20}{e ** 2:>20}{e ** 3:>20}\\n{f:>20}{f ** 2:>20}{f ** 3:>20}')\n",
    "\n",
    "    "
   ]
  },
  {
   "source": [
    "## Solution 2"
   ],
   "cell_type": "markdown",
   "metadata": {}
  },
  {
   "cell_type": "code",
   "execution_count": 29,
   "metadata": {
    "tags": []
   },
   "outputs": [
    {
     "output_type": "stream",
     "name": "stdout",
     "text": "The temperature_1 in degree celsius is -40.0\nThe temperature_2 in degree celsius is 32.0\nThe temperature_3 in degree celsius is 104.0\nThe temperature_4 in degree celsius is 212.0\n"
    }
   ],
   "source": [
    "# Calculate and print the Fahrenheit tempreature for Celsius Value\n",
    "\n",
    "temp_1 = (9 / 5) * (-40) + 32 # Temp_1 is a float number\n",
    "print ('The temperature_1 in degree celsius is', temp_1) # Prints the value of a stream\n",
    "\n",
    "temp_2 = 9 / 5 * 0 + 32\n",
    "print('The temperature_2 in degree celsius is', temp_2)\n",
    "\n",
    "temp_3 = 9 / 5 * 40 + 32\n",
    "print('The temperature_3 in degree celsius is', temp_3)\n",
    "\n",
    "temp_4 = 9 / 5 * 100 + 32\n",
    "print('The temperature_4 in degree celsius is', temp_4)"
   ]
  },
  {
   "source": [
    "## Solution 3\n"
   ],
   "cell_type": "markdown",
   "metadata": {}
  },
  {
   "cell_type": "code",
   "execution_count": 4,
   "metadata": {
    "tags": []
   },
   "outputs": [
    {
     "output_type": "stream",
     "name": "stdout",
     "text": "The sum is  7,000\nThe average is  2,333.33\n"
    }
   ],
   "source": [
    "# Script to input 3 integers from the use, printing the sum and average of the numbers\n",
    "\n",
    "integer_1 = int(input('Enter the first integer: ')) # Converts a number or string to an integer\n",
    "integer_2 = int(input('Enter the second integer: '))\n",
    "integer_3 = int(input('Enter the third integer: '))\n",
    "\n",
    "total = integer_1 + integer_2 + integer_3\n",
    "print(f'The sum is {total: ,d}') # prints the value to a stream\n",
    "\n",
    "average = total / 3\n",
    "print(f'The average is {average: ,.2f}')"
   ]
  },
  {
   "cell_type": "code",
   "execution_count": null,
   "metadata": {},
   "outputs": [],
   "source": []
  }
 ]
}