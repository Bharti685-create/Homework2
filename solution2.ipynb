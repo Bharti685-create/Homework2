{
 "metadata": {
  "language_info": {
   "codemirror_mode": {
    "name": "ipython",
    "version": 3
   },
   "file_extension": ".py",
   "mimetype": "text/x-python",
   "name": "python",
   "nbconvert_exporter": "python",
   "pygments_lexer": "ipython3",
   "version": "3.8.5-final"
  },
  "orig_nbformat": 2,
  "kernelspec": {
   "name": "python38532bit22575fde146340d1af1562ba76661844",
   "display_name": "Python 3.8.5 32-bit"
  }
 },
 "nbformat": 4,
 "nbformat_minor": 2,
 "cells": [
  {
   "source": [
    "# Solutions"
   ],
   "cell_type": "markdown",
   "metadata": {}
  },
  {
   "source": [
    "## Solution 1"
   ],
   "cell_type": "markdown",
   "metadata": {}
  },
  {
   "cell_type": "code",
   "execution_count": 28,
   "metadata": {
    "tags": []
   },
   "outputs": [
    {
     "output_type": "stream",
     "name": "stdout",
     "text": "Number\tSquare\tCube\n     0\t     0\t   0\n     1\t     1\t   1\n     2\t     4\t   8\n     3\t     9\t  27\n     4\t    16\t  64\n     5\t    25\t 125\n"
    }
   ],
   "source": [
    "# Computing the Square and Cubes of numbers 0 to 5\n",
    "\n",
    "a = 0\n",
    "b = 1\n",
    "c = 2\n",
    "d = 3\n",
    "e = 4\n",
    "f = 5\n",
    "\n",
    "print(f'\\tNumber\\tSquare\\tCube\\n{a:>6}\\t{a ** 2:>6}\\t{a ** 3:>4}\\n{b:>6}\\t{b ** 2:>6}\\t{b ** 3:>4}\\n{c:>6}\\t{c ** 2:>6}\\t{c ** 3:>4}\\n{d:>6}\\t{d ** 2:>6}\\t{d ** 3:>4}\\n{e:>6}\\t{e ** 2:>6}\\t{e ** 3:>4}\\n{f:>6}\\t{f ** 2:>6}\\t{f ** 3:>4}')\n"
   ]
  },
  {
   "source": [
    "## Solution 2"
   ],
   "cell_type": "markdown",
   "metadata": {}
  },
  {
   "cell_type": "code",
   "execution_count": 29,
   "metadata": {
    "tags": []
   },
   "outputs": [
    {
     "output_type": "stream",
     "name": "stdout",
     "text": "The temperature_1 in degree celsius is -40.0\nThe temperature_2 in degree celsius is 32.0\nThe temperature_3 in degree celsius is 104.0\nThe temperature_4 in degree celsius is 212.0\n"
    }
   ],
   "source": [
    "# Calculate and print the Fahrenheit tempreature for Celsius Value\n",
    "\n",
    "temp_1 = (9 / 5) * (-40) + 32\n",
    "print ('The temperature_1 in degree celsius is', temp_1)\n",
    "\n",
    "temp_2 = 9 / 5 * 0 + 32\n",
    "print('The temperature_2 in degree celsius is', temp_2)\n",
    "\n",
    "temp_3 = 9 / 5 * 40 + 32\n",
    "print('The temperature_3 in degree celsius is', temp_3)\n",
    "\n",
    "temp_4 = 9 / 5 * 100 + 32\n",
    "print('The temperature_4 in degree celsius is', temp_4)"
   ]
  },
  {
   "source": [
    "## Solution 3\n"
   ],
   "cell_type": "markdown",
   "metadata": {}
  },
  {
   "cell_type": "code",
   "execution_count": 31,
   "metadata": {
    "tags": []
   },
   "outputs": [
    {
     "output_type": "stream",
     "name": "stdout",
     "text": "The sum is  7,000\nThe average is  2,333.333333\n"
    }
   ],
   "source": [
    "# Script to input 3 integers from the use, printing the sum and average of the numbers\n",
    "\n",
    "integer_1 = int(input('Enter the first integer: '))\n",
    "integer_2 = int(input('Enter the second integer: '))\n",
    "integer_3 = int(input('Enter the third integer: '))\n",
    "\n",
    "sum = integer_1 + integer_2 + integer_3\n",
    "print(f'The sum is {sum: ,d}')\n",
    "\n",
    "average = sum / 3\n",
    "print(f'The average is {average: ,f}')"
   ]
  }
 ]
}